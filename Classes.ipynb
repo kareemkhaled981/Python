{
 "cells": [
  {
   "cell_type": "markdown",
   "metadata": {
    "id": "ztOSGe78z4NV"
   },
   "source": [
    "# Managing a Simple Inventory System"
   ]
  },
  {
   "cell_type": "code",
   "execution_count": 31,
   "metadata": {
    "id": "jmLTQpK7zvwO"
   },
   "outputs": [
    {
     "name": "stdout",
     "output_type": "stream",
     "text": [
      "Current Inventory:\n",
      "PLC - Price: $200 - Quantity: 20\n",
      "Drive - Price: $350 - Quantity: 50\n",
      "HMI - Price: $100 - Quantity: 10\n",
      "Current Inventory:\n",
      "PLC - Price: $200 - Quantity: 40\n",
      "Drive - Price: $350 - Quantity: 50\n",
      "HMI - Price: $100 - Quantity: 25\n"
     ]
    }
   ],
   "source": [
    "class Product:\n",
    "    def __init__(self, ID, name, price, quantity):\n",
    "        self.ID = ID\n",
    "        self.name = name\n",
    "        self.price = price\n",
    "        self.quantity = quantity\n",
    "\n",
    "    def __str__(self):\n",
    "        return f\"{self.name} - Price: ${self.price} - Quantity: {self.quantity}\"\n",
    "\n",
    "class Inventory:\n",
    "    def __init__(self):\n",
    "        self.products = []\n",
    "\n",
    "    def add_product(self, product):\n",
    "        self.products.append(product)\n",
    "\n",
    "    def search_product(self, ID):\n",
    "        for product in self.products:\n",
    "            if product.ID == ID:\n",
    "                return product\n",
    "        return None\n",
    "\n",
    "    def update_quantity(self, ID, new_quantity):\n",
    "        product = self.search_product(ID)\n",
    "        if product:\n",
    "            product.quantity = new_quantity\n",
    "            return True\n",
    "        return False\n",
    "\n",
    "    def display_inventory(self):\n",
    "        print(\"Current Inventory:\")\n",
    "        for product in self.products:\n",
    "            print(product)\n",
    "\n",
    "inventory_system = Inventory()\n",
    "\n",
    "# Add products to the inventory\n",
    "product1 = Product(1, \"PLC\", 200, 20)\n",
    "product2 = Product(2, \"Drive\", 350, 50)\n",
    "product3 = Product(3, \"HMI\", 100, 10)\n",
    "\n",
    "inventory_system.add_product(product1)\n",
    "inventory_system.add_product(product2)\n",
    "inventory_system.add_product(product3)\n",
    "\n",
    "# current inventory\n",
    "inventory_system.display_inventory()\n",
    "\n",
    "# Update quantity of a products\n",
    "inventory_system.update_quantity(1, 40)\n",
    "inventory_system.update_quantity(3, 25)\n",
    "\n",
    "# inventory after update\n",
    "inventory_system.display_inventory()"
   ]
  },
  {
   "cell_type": "markdown",
   "metadata": {
    "id": "e3oNmsI2z8kj"
   },
   "source": [
    "# Simple Calculator Class"
   ]
  },
  {
   "cell_type": "code",
   "execution_count": null,
   "metadata": {
    "id": "GrGS4ubm0AFD"
   },
   "outputs": [
    {
     "name": "stdout",
     "output_type": "stream",
     "text": [
      "23\n",
      "-4\n",
      "36\n",
      "3.0\n",
      "Enter only one number\n",
      "720\n"
     ]
    }
   ],
   "source": [
    "class Calc:\n",
    "    def __init__(object, *Numbers):\n",
    "        object.Numbers = list(Numbers)\n",
    "\n",
    "    def sum(object):\n",
    "        total = 0\n",
    "        for num in object.Numbers:\n",
    "            total += num\n",
    "        return total\n",
    "    \n",
    "    def sub(object):\n",
    "        total = object.Numbers[0]\n",
    "        for num in object.Numbers[1:]:\n",
    "            total -= num\n",
    "        return total\n",
    "    \n",
    "    def mul(object):\n",
    "        total = 1\n",
    "        for num in object.Numbers:\n",
    "            total *= num\n",
    "        return total\n",
    "    \n",
    "    def div(object):\n",
    "        total = object.Numbers[0]\n",
    "        for num in object.Numbers[1:]:\n",
    "            total /= num\n",
    "        return total\n",
    "    \n",
    "    def factorial(object):\n",
    "        if len(object.Numbers) > 1:\n",
    "            Factorial_num = \"Enter only one number\"\n",
    "        else:\n",
    "            if object.Numbers[0] >= 0:\n",
    "                Factorial_num = 1 \n",
    "            for i in range(object.Numbers[0],0,-1):\n",
    "                Factorial_num *= i\n",
    "        return Factorial_num\n",
    "\n",
    "print(Calc(6,12,5).sum())\n",
    "print(Calc(6,3,7).sub())\n",
    "print(Calc(6,2,3).mul())\n",
    "print(Calc(6,2).div())\n",
    "print(Calc(6,1,5).factorial())\n",
    "print(Calc(6).factorial())"
   ]
  },
  {
   "cell_type": "markdown",
   "metadata": {
    "id": "KLlB1ndI0E9z"
   },
   "source": [
    "# Creating a Student Management System\n"
   ]
  },
  {
   "cell_type": "code",
   "execution_count": 1,
   "metadata": {
    "id": "bHVBM10b0Gzc"
   },
   "outputs": [
    {
     "name": "stdout",
     "output_type": "stream",
     "text": [
      "Name: Karam\n",
      "Age: 23\n",
      "Level: 4\n",
      "ID: 211902156\n",
      "Grade: B\n",
      "\n"
     ]
    }
   ],
   "source": [
    "class Student:\n",
    "    def __init__(object, name, age, level, ID, Grade):\n",
    "        object.name = name\n",
    "        object.age = age\n",
    "        object.level = level\n",
    "        object.ID = ID\n",
    "        object.Grade = Grade\n",
    "\n",
    "    def display_info(object):\n",
    "        if object.Grade < 60:\n",
    "            garde = \"F\"\n",
    "        elif object.Grade <= 70:\n",
    "            garde = \"D\"\n",
    "        elif object.Grade <= 80:\n",
    "            garde = \"C\"\n",
    "        elif object.Grade <= 90:\n",
    "            garde = \"B\"      \n",
    "        elif object.Grade <= 100:\n",
    "            garde = \"A\"      \n",
    "        print(f\"Name: {object.name}\\nAge: {object.age}\\nLevel: {object.level}\\nID: {object.ID}\\nGrade: {garde}\\n\")\n",
    "\n",
    "# Create an object of the Student class\n",
    "Student1 = Student(\"Karam\", 23 ,4 , 211902156 , 85)\n",
    "\n",
    "# Access and print object attributes and methods\n",
    "Student1.display_info()\n"
   ]
  },
  {
   "cell_type": "markdown",
   "metadata": {
    "id": "Gp48XfCR0I_c"
   },
   "source": [
    "# Modeling a Bank Account\n"
   ]
  },
  {
   "cell_type": "code",
   "execution_count": 20,
   "metadata": {
    "id": "vw1q3ooy0LO8"
   },
   "outputs": [
    {
     "name": "stdout",
     "output_type": "stream",
     "text": [
      "Account Holder: Alice\n",
      "Account Number: 123456\n",
      "Current Balance: $600\n"
     ]
    }
   ],
   "source": [
    "class BankAccount:\n",
    "    def __init__(self, account_number, account_holder, balance=0):\n",
    "        self.account_number = account_number\n",
    "        self.account_holder = account_holder\n",
    "        self.balance = balance\n",
    "\n",
    "    def deposit(self, amount):\n",
    "        if amount >= 0:\n",
    "            self.balance += amount\n",
    "            return True\n",
    "        return False\n",
    "\n",
    "    def withdraw(self, amount):\n",
    "        if 0 < amount <= self.balance:\n",
    "            self.balance -= amount\n",
    "            return True\n",
    "        return False\n",
    "\n",
    "    def check_balance(self):\n",
    "        return self.balance\n",
    "\n",
    "account = BankAccount(\"123456\", \"Alice\", 1000)\n",
    "account.deposit(500)\n",
    "account.withdraw(900)\n",
    "\n",
    "print(f\"Account Holder: {account.account_holder}\")\n",
    "print(f\"Account Number: {account.account_number}\")\n",
    "print(f\"Current Balance: ${account.check_balance()}\")"
   ]
  },
  {
   "cell_type": "markdown",
   "metadata": {
    "id": "-4--ZqEe0OQ8"
   },
   "source": [
    "# Modeling a Simple Library System\n"
   ]
  },
  {
   "cell_type": "code",
   "execution_count": null,
   "metadata": {
    "id": "v36U_UHD0POE"
   },
   "outputs": [
    {
     "name": "stdout",
     "output_type": "stream",
     "text": [
      "Books in the library:\n",
      "1. Harry Potter by J. K. Rowling\n",
      "2. A Song of Ice and Fire by George R. R. Martin\n",
      "3. Electrical power Engineering by Dr- Mahmoud El-Jelany\n",
      "\n",
      "Borrowed books:\n",
      "Hamed has borrowed:\n",
      "- Harry Potter by J. K. Rowling\n",
      "Noby has borrowed:\n",
      "- A Song of Ice and Fire by George R. R. Martin\n",
      "Karam has borrowed:\n",
      "- Electrical power Engineering by Dr- Mahmoud El-Jelany\n",
      "\n",
      "After returning a book:\n",
      "Hamed has borrowed:\n",
      "Noby has borrowed:\n",
      "Karam has borrowed:\n",
      "- Electrical power Engineering by Dr- Mahmoud El-Jelany\n"
     ]
    }
   ],
   "source": [
    "class Book:\n",
    "    def __init__(self, title, author):\n",
    "        self.title = title\n",
    "        self.author = author\n",
    "        self.is_borrowed = False\n",
    "\n",
    "    def __str__(self):\n",
    "        return f\"{self.title} by {self.author}\"\n",
    "\n",
    "class Member:\n",
    "    def __init__(self, name):\n",
    "        self.name = name\n",
    "        self.borrowed_books = []\n",
    "\n",
    "    def borrow_book(self, book):\n",
    "        if not book.is_borrowed:\n",
    "            book.is_borrowed = True\n",
    "            self.borrowed_books.append(book)\n",
    "            return True\n",
    "        return False\n",
    "\n",
    "    def return_book(self, book):\n",
    "        if book in self.borrowed_books:\n",
    "            book.is_borrowed = False\n",
    "            self.borrowed_books.remove(book)\n",
    "            return True\n",
    "        return False\n",
    "\n",
    "class Library:\n",
    "    def __init__(self):\n",
    "        self.books = []\n",
    "\n",
    "    def add_book(self, book):\n",
    "        self.books.append(book)\n",
    "\n",
    "    def display_books(self):\n",
    "        for i, book in enumerate(self.books, 1):\n",
    "            print(f\"{i}. {book}\")\n",
    "\n",
    "# Create library and books\n",
    "library = Library()\n",
    "\n",
    "book1 = Book(\"Harry Potter\", \"J. K. Rowling\")\n",
    "book2 = Book(\"A Song of Ice and Fire\", \"George R. R. Martin\")\n",
    "book3 = Book(\"Electrical power Engineering\", \"Dr- Mahmoud El-Jelany\")\n",
    "\n",
    "library.add_book(book1)\n",
    "library.add_book(book2)\n",
    "library.add_book(book3)\n",
    "\n",
    "Members = [Member(\"Hamed\") , Member(\"Noby\") , Member(\"Karam\")]\n",
    "\n",
    "Members[0].borrow_book(book1)\n",
    "Members[1].borrow_book(book2)\n",
    "Members[2].borrow_book(book3)\n",
    "\n",
    "# Books in the library\n",
    "print(\"Books in the library:\")\n",
    "library.display_books()\n",
    "\n",
    "# Borrowed books by members\n",
    "print(\"\\nBorrowed books:\")\n",
    "for member in Members:\n",
    "    print(f\"{member.name} has borrowed:\")\n",
    "    for book in member.borrowed_books:\n",
    "        print(f\"- {book}\")\n",
    "\n",
    "# Member 1 returns a book\n",
    "Members[0].return_book(book1)\n",
    "Members[1].return_book(book2)\n",
    "\n",
    "print(\"\\nAfter returning a book:\")\n",
    "for member in Members:\n",
    "    print(f\"{member.name} has borrowed:\")\n",
    "    for book in member.borrowed_books:\n",
    "        print(f\"- {book}\")"
   ]
  },
  {
   "cell_type": "markdown",
   "metadata": {
    "id": "eehFyGAs0RY8"
   },
   "source": [
    "# Simple Voting System"
   ]
  },
  {
   "cell_type": "code",
   "execution_count": null,
   "metadata": {
    "id": "SWD1UiMl0Syj"
   },
   "outputs": [
    {
     "name": "stdout",
     "output_type": "stream",
     "text": [
      "Voted for Candidate A.\n",
      "Voted for Candidate B.\n",
      "Voted for Candidate A.\n",
      "Voted for Candidate C.\n",
      "Voted for Candidate A.\n",
      "Voted for Candidate B.\n",
      "Voting Results:\n",
      "Candidate A: 3 votes\n",
      "Candidate B: 2 votes\n",
      "Candidate C: 1 votes\n"
     ]
    }
   ],
   "source": [
    "class Voting:\n",
    "    def __init__(self, candidates):\n",
    "        self.candidates = candidates\n",
    "        self.votes = {candidate: 0 for candidate in candidates}\n",
    "\n",
    "    def vote(self, candidate):\n",
    "        if candidate in self.candidates:\n",
    "            self.votes[candidate] += 1\n",
    "            print(f\"Voted for {candidate}.\")\n",
    "        else:\n",
    "            print(\"Invalid candidate.\")\n",
    "\n",
    "    def get_results(self):\n",
    "        sorted_results = sorted(self.votes.items(), key=lambda x: x[1], reverse=True)\n",
    "        print(\"Voting Results:\")\n",
    "        for candidate, votes in sorted_results:\n",
    "            print(f\"{candidate}: {votes} votes\")\n",
    "\n",
    "# Create a VotingSystem instance with candidates\n",
    "voting_system = Voting([\"Candidate A\", \"Candidate B\", \"Candidate C\"])\n",
    "\n",
    "voting_system.vote(\"Candidate A\")\n",
    "voting_system.vote(\"Candidate B\")\n",
    "voting_system.vote(\"Candidate A\")\n",
    "voting_system.vote(\"Candidate C\")\n",
    "voting_system.vote(\"Candidate A\")\n",
    "voting_system.vote(\"Candidate B\")\n",
    "\n",
    "# The voting results\n",
    "voting_system.get_results()"
   ]
  },
  {
   "cell_type": "markdown",
   "metadata": {
    "id": "Vnb0BYfc0VBM"
   },
   "source": [
    "# Simple Temperature Converter"
   ]
  },
  {
   "cell_type": "code",
   "execution_count": 6,
   "metadata": {
    "id": "KjB3N91N0V1r"
   },
   "outputs": [
    {
     "name": "stdout",
     "output_type": "stream",
     "text": [
      "Temperature in Kelvin is: 303.15\n",
      "Temperature in Fahrenheit is: 86.0\n"
     ]
    }
   ],
   "source": [
    "class TEMP:\n",
    "    def __init__(self,temp):\n",
    "        self.temp = temp\n",
    "    \n",
    "    def kelvin(self):\n",
    "        kel = self.temp + 273.15\n",
    "        return (f\"Temperature in Kelvin is: {kel}\")\n",
    "        \n",
    "    def Fahrenheit(self):\n",
    "        fah = (self.temp * 1.8) + 32\n",
    "        return (f\"Temperature in Fahrenheit is: {fah}\")\n",
    "\n",
    "print(TEMP(30).kelvin())\n",
    "print(TEMP(30).Fahrenheit())"
   ]
  },
  {
   "cell_type": "markdown",
   "metadata": {
    "id": "MRua6w7D0X4E"
   },
   "source": [
    "# Modeling a Car Rental System\n"
   ]
  },
  {
   "cell_type": "code",
   "execution_count": null,
   "metadata": {
    "id": "WsStIvIy0Ztz"
   },
   "outputs": [
    {
     "name": "stdout",
     "output_type": "stream",
     "text": [
      "Available Cars:\n",
      "2020 Toyota Camry - Available: False\n",
      "2021 Honda Civic - Available: True\n",
      "\n",
      "Available Cars after return:\n",
      "2020 Toyota Camry - Available: True\n",
      "2021 Honda Civic - Available: True\n"
     ]
    }
   ],
   "source": [
    "class Car:\n",
    "    def __init__(self, madeby, model, year, available=True):\n",
    "        self.madeby = madeby\n",
    "        self.model = model\n",
    "        self.year = year\n",
    "        self.available = available\n",
    "\n",
    "    def __str__(self):\n",
    "        return f\"{self.year} {self.madeby} {self.model} - Available: {self.available}\"\n",
    "\n",
    "class Customer:\n",
    "    def __init__(self, name):\n",
    "        self.name = name\n",
    "        self.rented_car = None\n",
    "\n",
    "class RentalSystem:\n",
    "    def __init__(self):\n",
    "        self.cars = []\n",
    "\n",
    "    def add_car(self, car):\n",
    "        self.cars.append(car)\n",
    "\n",
    "    def rent_car(self, customer, car_index):\n",
    "        if 0 <= car_index < len(self.cars) and self.cars[car_index].available:\n",
    "            self.cars[car_index].available = False\n",
    "            customer.rented_car = self.cars[car_index]\n",
    "            return True\n",
    "        return False\n",
    "\n",
    "    def return_car(self, customer):\n",
    "        if customer.rented_car:\n",
    "            customer.rented_car.available = True\n",
    "            customer.rented_car = None\n",
    "            return True\n",
    "        return False\n",
    "\n",
    "rental_system = RentalSystem()\n",
    "\n",
    "\n",
    "car1 = Car(\"Toyota\", \"Camry\", 2020)\n",
    "car2 = Car(\"Honda\", \"Civic\", 2021)\n",
    "rental_system.add_car(car1)\n",
    "rental_system.add_car(car2)\n",
    "\n",
    "# Create a customer\n",
    "customer1 = Customer(\"Karam\")\n",
    "\n",
    "# Rent a car\n",
    "rental_system.rent_car(customer1, 0)\n",
    "\n",
    "# Available cars\n",
    "print(\"Available Cars:\")\n",
    "for car in rental_system.cars:\n",
    "    print(car)\n",
    "\n",
    "# Return the rented car\n",
    "rental_system.return_car(customer1)\n",
    "\n",
    "# Available cars after returning\n",
    "print(\"\\nAvailable Cars after return:\")\n",
    "for car in rental_system.cars:\n",
    "    print(car)"
   ]
  }
 ],
 "metadata": {
  "colab": {
   "authorship_tag": "ABX9TyMlxrwq6URNuJQdOsD5/IQz",
   "provenance": []
  },
  "kernelspec": {
   "display_name": "Python 3",
   "name": "python3"
  },
  "language_info": {
   "codemirror_mode": {
    "name": "ipython",
    "version": 3
   },
   "file_extension": ".py",
   "mimetype": "text/x-python",
   "name": "python",
   "nbconvert_exporter": "python",
   "pygments_lexer": "ipython3",
   "version": "3.13.0"
  }
 },
 "nbformat": 4,
 "nbformat_minor": 0
}
