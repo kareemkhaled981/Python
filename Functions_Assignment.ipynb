{
 "cells": [
  {
   "cell_type": "markdown",
   "metadata": {},
   "source": [
    "# Functions Assignment"
   ]
  },
  {
   "cell_type": "markdown",
   "metadata": {},
   "source": [
    "# 1. Python Flow Control"
   ]
  },
  {
   "cell_type": "markdown",
   "metadata": {},
   "source": [
    "## 1. Write a Python program to find those numbers which are divisible by 7 and multiples of 5, between 1500 and 2700 (both included). \n",
    "\n",
    "\n",
    "\n"
   ]
  },
  {
   "cell_type": "code",
   "execution_count": 2,
   "metadata": {},
   "outputs": [
    {
     "name": "stdout",
     "output_type": "stream",
     "text": [
      "1505\n",
      "1540\n",
      "1575\n",
      "1610\n",
      "1645\n",
      "1680\n",
      "1715\n",
      "1750\n",
      "1785\n",
      "1820\n",
      "1855\n",
      "1890\n",
      "1925\n",
      "1960\n",
      "1995\n",
      "2030\n",
      "2065\n",
      "2100\n",
      "2135\n",
      "2170\n",
      "2205\n",
      "2240\n",
      "2275\n",
      "2310\n",
      "2345\n",
      "2380\n",
      "2415\n",
      "2450\n",
      "2485\n",
      "2520\n",
      "2555\n",
      "2590\n",
      "2625\n",
      "2660\n",
      "2695\n"
     ]
    }
   ],
   "source": [
    "for number in range(1500 , 2700 ,5):\n",
    "    if number % 7 == 0:\n",
    "        print(number)"
   ]
  },
  {
   "cell_type": "markdown",
   "metadata": {},
   "source": [
    "## 2. Write a Python program to guess a number between 1 and 9.\n",
    "Note : User is prompted to enter a guess. If the user guesses wrong then the prompt appears again until the guess is correct, on successful guess, user will get a \"Well guessed!\" message, and the program will exit."
   ]
  },
  {
   "cell_type": "code",
   "execution_count": 3,
   "metadata": {},
   "outputs": [
    {
     "name": "stdout",
     "output_type": "stream",
     "text": [
      "Try again.\n",
      "Try again.\n",
      "Try again.\n",
      "Try again.\n",
      "Try again.\n",
      "Try again.\n",
      "2 Well guessed!\n"
     ]
    }
   ],
   "source": [
    "import random\n",
    "\n",
    "number = random.randint(1, 9)\n",
    "\n",
    "while True:\n",
    "    guess = int(input(\"Guess a number between 1 and 9: \"))\n",
    "    if guess == number:\n",
    "        print(number, \"Well guessed!\")\n",
    "        break\n",
    "    else:\n",
    "        print(\"Try again.\")"
   ]
  },
  {
   "cell_type": "markdown",
   "metadata": {},
   "source": [
    "## 3. Write a Python program that prints all the numbers from 0 to 6 except 3 and 6.\n",
    "Note : Use 'continue' statement.\n",
    "Expected Output : 0 1 2 4 5 \n"
   ]
  },
  {
   "cell_type": "code",
   "execution_count": 4,
   "metadata": {},
   "outputs": [
    {
     "name": "stdout",
     "output_type": "stream",
     "text": [
      "0 1 2 4 5 "
     ]
    }
   ],
   "source": [
    "i = 0\n",
    "while i < 6:\n",
    "    if i == 3:\n",
    "        i+=1\n",
    "        continue\n",
    "    print(i , end=\" \")\n",
    "    i+=1"
   ]
  },
  {
   "cell_type": "markdown",
   "metadata": {},
   "source": [
    "## 4. Write a Python program to construct the following pattern, using a nested for loop.\n",
    "```\n",
    "* \n",
    "* * \n",
    "* * * \n",
    "* * * * \n",
    "* * * * * \n",
    "* * * * \n",
    "* * * \n",
    "* * \n",
    "*\n",
    "```"
   ]
  },
  {
   "cell_type": "code",
   "execution_count": 5,
   "metadata": {},
   "outputs": [
    {
     "name": "stdout",
     "output_type": "stream",
     "text": [
      "* \n",
      "* * \n",
      "* * * \n",
      "* * * * \n",
      "* * * * * \n",
      "* * * * \n",
      "* * * \n",
      "* * \n",
      "* \n"
     ]
    }
   ],
   "source": [
    "for i in range(5):\n",
    "    for j in range(i+1):\n",
    "        print(\"*\", end=\" \")\n",
    "    print()\n",
    "\n",
    "for i in range(4, 0, -1):\n",
    "    for j in range(i):\n",
    "        print(\"*\", end=\" \")\n",
    "    print()"
   ]
  },
  {
   "cell_type": "markdown",
   "metadata": {},
   "source": [
    "```\n",
    "      * \n",
    "     * * \n",
    "    * * * \n",
    "   * * * * \n",
    "  * * * * * \n",
    " * * * * * * \n",
    "* * * * * * * \n",
    " * * * * * * \n",
    "  * * * * * \n",
    "   * * * * \n",
    "    * * * \n",
    "     * * \n",
    "      * \n",
    "```"
   ]
  },
  {
   "cell_type": "code",
   "execution_count": 6,
   "metadata": {},
   "outputs": [
    {
     "name": "stdout",
     "output_type": "stream",
     "text": [
      "      * \n",
      "     * * \n",
      "    * * * \n",
      "   * * * * \n",
      "  * * * * * \n",
      " * * * * * * \n",
      "* * * * * * * \n",
      " * * * * * * \n",
      "  * * * * * \n",
      "   * * * * \n",
      "    * * * \n",
      "     * * \n",
      "      * \n"
     ]
    }
   ],
   "source": [
    "\n",
    "for i in range(1, 8):\n",
    "    print(\" \" * (7 - i), end=\"\")\n",
    "    print(\"* \" * i)\n",
    "\n",
    "for i in range(6, 0, -1):\n",
    "    print(\" \" * (7 - i), end=\"\")\n",
    "    print(\"* \" * i)"
   ]
  },
  {
   "cell_type": "markdown",
   "metadata": {},
   "source": [
    "## 5. Write a Python program that accepts a word from the user and reverses it. \n",
    "\n"
   ]
  },
  {
   "cell_type": "code",
   "execution_count": 7,
   "metadata": {},
   "outputs": [
    {
     "name": "stdout",
     "output_type": "stream",
     "text": [
      "Reversed word is : marak\n"
     ]
    }
   ],
   "source": [
    "Word = input(\"Enter your word : \")\n",
    "Reversed_Word = Word[::-1]\n",
    "print(\"Reversed word is :\", Reversed_Word)"
   ]
  },
  {
   "cell_type": "markdown",
   "metadata": {},
   "source": [
    "## 6. Write a Python program to count the number of even and odd numbers in a series of numbers\n",
    "Sample numbers : numbers = (1, 2, 3, 4, 5, 6, 7, 8, 9) \n",
    "\n",
    "Expected Output :\n",
    "\n",
    "Number of even numbers : 4\n",
    "\n",
    "Number of odd numbers : 5"
   ]
  },
  {
   "cell_type": "code",
   "execution_count": 8,
   "metadata": {},
   "outputs": [
    {
     "name": "stdout",
     "output_type": "stream",
     "text": [
      "Number of odd numbers :  5\n",
      "Number of even numbers :  3\n"
     ]
    }
   ],
   "source": [
    "Sample_numbers = [1 , 2 , 3 , 6 , 9 , 7 , 23 , 4]\n",
    "CE = 0\n",
    "CO = 0\n",
    "for i in Sample_numbers:\n",
    "    if i % 2 == 0:\n",
    "        CE +=1\n",
    "    else:\n",
    "        CO +=1\n",
    "print(\"Number of odd numbers : \" , CO)\n",
    "print(\"Number of even numbers : \" , CE)"
   ]
  },
  {
   "cell_type": "markdown",
   "metadata": {},
   "source": [
    "## 7. Write a Python program to print the the first alphabet pattern 'A-Z' in your name .\n",
    "for example  Expected Output:\n",
    "\n",
    "\n",
    "```\n",
    "  ***                                                                   \n",
    " *   *                                                                  \n",
    " *   *                                                                  \n",
    " *****                                                                  \n",
    " *   *                                                                  \n",
    " *   *                                                                  \n",
    " *   *\n",
    "```"
   ]
  },
  {
   "cell_type": "code",
   "execution_count": 9,
   "metadata": {},
   "outputs": [
    {
     "name": "stdout",
     "output_type": "stream",
     "text": [
      "**           **         \n",
      "**         **           \n",
      "**       **             \n",
      "**     **               \n",
      "**   **                 \n",
      "** **                   \n",
      "**   **                 \n",
      "**     **               \n",
      "**       **             \n",
      "**         **           \n",
      "**           **         \n"
     ]
    }
   ],
   "source": [
    "for i in range(11):\n",
    "    for j in range(11):\n",
    "        if j == 0 or i - j == 4  or i + j == 6:\n",
    "            print(\"**\", end=\" \")\n",
    "        else:\n",
    "            print(\" \", end=\" \")\n",
    "    print()"
   ]
  },
  {
   "cell_type": "markdown",
   "metadata": {},
   "source": [
    "## 8.  Write a Python program to construct the following pattern, using a nested loop number.\n",
    "Expected Output:\n",
    "\n",
    "\n",
    "``\n",
    "1\n",
    "22\n",
    "333\n",
    "4444\n",
    "55555\n",
    "666666\n",
    "7777777\n",
    "88888888\n",
    "999999999\n",
    "``"
   ]
  },
  {
   "cell_type": "code",
   "execution_count": 10,
   "metadata": {},
   "outputs": [
    {
     "name": "stdout",
     "output_type": "stream",
     "text": [
      " 1 22 333 4444 55555 666666 7777777 88888888 999999999 "
     ]
    }
   ],
   "source": [
    "for i in range(10):\n",
    "    for j in range(i):\n",
    "        print (i, end=\"\")\n",
    "    print(end=\" \")"
   ]
  },
  {
   "cell_type": "markdown",
   "metadata": {},
   "source": [
    "## 9. Write a Python program to create the multiplication table (from 1 to 10) of a number.\n",
    "Expected Output:\n",
    "\n",
    "Input a number: 6                                                       \n",
    "6 x 1 = 6                                                               \n",
    "6 x 2 = 12                                                              \n",
    "6 x 3 = 18                                                              \n",
    "6 x 4 = 24                                                              \n",
    "6 x 5 = 30                                                              \n",
    "6 x 6 = 36                                                              \n",
    "6 x 7 = 42                                                              \n",
    "6 x 8 = 48                                                              \n",
    "6 x 9 = 54                                                              \n",
    "6 x 10 = 60 \n"
   ]
  },
  {
   "cell_type": "code",
   "execution_count": 11,
   "metadata": {},
   "outputs": [
    {
     "name": "stdout",
     "output_type": "stream",
     "text": [
      "5 x 1 = 5\n",
      "5 x 2 = 10\n",
      "5 x 3 = 15\n",
      "5 x 4 = 20\n",
      "5 x 5 = 25\n",
      "5 x 6 = 30\n",
      "5 x 7 = 35\n",
      "5 x 8 = 40\n",
      "5 x 9 = 45\n",
      "5 x 10 = 50\n",
      "5 x 11 = 55\n",
      "5 x 12 = 60\n"
     ]
    }
   ],
   "source": [
    "number = int(input(\"Enter a number: \"))\n",
    "for i in range(1, 13):\n",
    "    print(number, \"x\", i, \"=\", number * i)"
   ]
  },
  {
   "cell_type": "markdown",
   "metadata": {},
   "source": [
    "## 10. Write a Python program to calculate the sum and average of n integer numbers (input from the user). Input 0 to finish."
   ]
  },
  {
   "cell_type": "code",
   "execution_count": 13,
   "metadata": {},
   "outputs": [
    {
     "name": "stdout",
     "output_type": "stream",
     "text": [
      "Sum: 15\n",
      "Average: 3.0\n"
     ]
    }
   ],
   "source": [
    "numbers = []\n",
    "while True:\n",
    "    num = int(input(\"Enter a number (0 to finish): \"))\n",
    "    if num == 0:\n",
    "        break\n",
    "\n",
    "    numbers = range(1 , num + 1)\n",
    "    total = sum(numbers)\n",
    "    average = total / len(numbers)\n",
    "    print(\"Sum:\", total)\n",
    "    print(\"Average:\", average)\n",
    "    break\n",
    "if not numbers:\n",
    "    print(\"No numbers entered.\")"
   ]
  },
  {
   "cell_type": "markdown",
   "metadata": {},
   "source": [
    "# 11-Python Program to Print the Fibonacci sequence\n",
    "\n",
    "The Fibonacci numbers are the numbers in the following integer sequence. 0, 1, 1, 2, 3, 5, 8, 13, 21, 34, 55, 89, 144, …….. In mathematical terms, the sequence Fn of Fibonacci numbers is defined by the recurrence relation.\n"
   ]
  },
  {
   "cell_type": "code",
   "execution_count": 14,
   "metadata": {},
   "outputs": [
    {
     "name": "stdout",
     "output_type": "stream",
     "text": [
      "Fibonacci sequence:\n",
      "0 1 1 2 3 5 8 13 21 "
     ]
    }
   ],
   "source": [
    "def fibonacci(n):\n",
    "    if n <= 0:\n",
    "        print(\"Please enter a positive integer\")\n",
    "    elif n == 1:\n",
    "        return 0\n",
    "    elif n == 2:\n",
    "        return 1\n",
    "    else:\n",
    "        return fibonacci(n-1) + fibonacci(n-2)\n",
    "\n",
    "n = int(input(\"Enter the number of terms: \"))\n",
    "if n <= 0:\n",
    "    print(\"Please enter a positive integer\")\n",
    "else:\n",
    "    print(\"Fibonacci sequence:\")\n",
    "    for i in range(1,n+1):\n",
    "        print(fibonacci(i), end=\" \")"
   ]
  },
  {
   "cell_type": "markdown",
   "metadata": {},
   "source": [
    "# Finding the Maximum Value in a List"
   ]
  },
  {
   "cell_type": "code",
   "execution_count": 15,
   "metadata": {},
   "outputs": [
    {
     "name": "stdout",
     "output_type": "stream",
     "text": [
      "The maximum value in the list is: 27\n"
     ]
    }
   ],
   "source": [
    "List = [1 , 2 , 5 , 27 , 12]\n",
    "if not List:\n",
    "    print(\"Empty List\")\n",
    "\n",
    "max_value = List[0]\n",
    "for num in List:\n",
    "    if num > max_value:\n",
    "         max_value = num\n",
    "print(\"The maximum value in the list is:\", max_value)"
   ]
  },
  {
   "cell_type": "markdown",
   "metadata": {},
   "source": [
    "# Counting Vowels in a String"
   ]
  },
  {
   "cell_type": "code",
   "execution_count": 16,
   "metadata": {},
   "outputs": [
    {
     "name": "stdout",
     "output_type": "stream",
     "text": [
      "The number of vowels in the string is: 3\n"
     ]
    }
   ],
   "source": [
    "MyString = str(input(\"Enter Your String: \"))\n",
    "vowels = \"aeiouAEIOU\"\n",
    "vowel_count = 0\n",
    "\n",
    "for char in MyString:\n",
    "    if char in vowels:\n",
    "        vowel_count += 1\n",
    "print(\"The number of vowels in the string is:\", vowel_count)"
   ]
  },
  {
   "cell_type": "markdown",
   "metadata": {},
   "source": [
    "# Finding Prime Numbers within a Range"
   ]
  },
  {
   "cell_type": "code",
   "execution_count": 17,
   "metadata": {},
   "outputs": [
    {
     "name": "stdout",
     "output_type": "stream",
     "text": [
      "2\n",
      "3\n",
      "5\n",
      "7\n"
     ]
    }
   ],
   "source": [
    "Start = int(input(\"Enter the Start Number: \"))\n",
    "Stop = int(input(\"Enter the Last Number: \"))\n",
    "for num in range(Start , Stop + 1 , 1):\n",
    "    if num > 1:\n",
    "        prime = True\n",
    "        for i in range(2, num):\n",
    "            if num % i == 0:\n",
    "                prime = False\n",
    "                break\n",
    "        if prime:\n",
    "            print(num)\n",
    "    else:\n",
    "        print(\"Please enter a valid range\")"
   ]
  },
  {
   "cell_type": "markdown",
   "metadata": {},
   "source": [
    "# A Program that Simulating a Basic ATM Withdrawal"
   ]
  },
  {
   "cell_type": "code",
   "execution_count": 18,
   "metadata": {},
   "outputs": [
    {
     "name": "stdout",
     "output_type": "stream",
     "text": [
      "\n",
      "ATM Menu\n",
      "1. Check Balance\n",
      "2. Withdraw Money\n",
      "3. Exit\n",
      "Withdrawal successful. Your new balance is: 999800\n",
      "\n",
      "ATM Menu\n",
      "1. Check Balance\n",
      "2. Withdraw Money\n",
      "3. Exit\n",
      "Thank you for using the ATM. Goodbye!\n"
     ]
    }
   ],
   "source": [
    "balance = 1000000\n",
    "while True:\n",
    "    print(\"\\nATM Menu\")\n",
    "    print(\"1. Check Balance\")\n",
    "    print(\"2. Withdraw Money\")\n",
    "    print(\"3. Exit\")\n",
    "\n",
    "    choice = int(input(\"Enter your choice: \"))\n",
    "\n",
    "    if choice == 1:\n",
    "        print(\"Your balance is:\", balance)\n",
    "    elif choice == 2:\n",
    "        amount = int(input(\"Enter the amount to withdraw: \"))\n",
    "        if amount <= balance:\n",
    "            balance -= amount\n",
    "            print(\"Withdrawal successful. Your new balance is:\", balance)\n",
    "        else:\n",
    "            print(\"Insufficient balance.\")\n",
    "    elif choice == 3:\n",
    "        print(\"Thank you for using the ATM. Goodbye!\")\n",
    "        break\n",
    "    else:\n",
    "        print(\"Invalid choice. Please try again.\")\n"
   ]
  },
  {
   "cell_type": "markdown",
   "metadata": {},
   "source": [
    "# Finding Common Elements in Two Lists"
   ]
  },
  {
   "cell_type": "code",
   "execution_count": 19,
   "metadata": {},
   "outputs": [
    {
     "name": "stdout",
     "output_type": "stream",
     "text": [
      "5\n",
      "3\n"
     ]
    }
   ],
   "source": [
    "List_1= [9, 7, 5, 3, 1]\n",
    "List_2= [2, 4, 5, 3, 8]\n",
    "for i in List_1:\n",
    "    for j in List_2:\n",
    "        if i == j :\n",
    "            print(i)"
   ]
  },
  {
   "cell_type": "markdown",
   "metadata": {},
   "source": [
    "# Calculating Factorial of a Number"
   ]
  },
  {
   "cell_type": "code",
   "execution_count": 20,
   "metadata": {},
   "outputs": [
    {
     "name": "stdout",
     "output_type": "stream",
     "text": [
      "Factorial 5 is :  120\n"
     ]
    }
   ],
   "source": [
    "num = int(input(\"Enter a number : \"))\n",
    "if num >= 0:\n",
    "    Factorial_num = 1 \n",
    "    for i in range(num,0,-1):\n",
    "        Factorial_num *= i\n",
    "else:\n",
    "    print(\"Invalid negative numbers.\")\n",
    "print(\"Factorial\", num ,\"is : \" ,Factorial_num)"
   ]
  },
  {
   "cell_type": "markdown",
   "metadata": {},
   "source": [
    "# Validating User Input with While Loop"
   ]
  },
  {
   "cell_type": "code",
   "execution_count": 22,
   "metadata": {},
   "outputs": [
    {
     "name": "stdout",
     "output_type": "stream",
     "text": [
      "Valid Number.\n"
     ]
    }
   ],
   "source": [
    "while True:\n",
    "    user_input = int(input(\"Enter a positive integer: \"))\n",
    "    if user_input > 0:\n",
    "        print(\"Valid Number.\")\n",
    "        break  # Valid input, exit the loop\n",
    "    else:\n",
    "        print(\"Please enter a positive integer.\")\n"
   ]
  },
  {
   "cell_type": "markdown",
   "metadata": {},
   "source": [
    "# Finding the Sum of Digits of a Number"
   ]
  },
  {
   "cell_type": "code",
   "execution_count": 23,
   "metadata": {},
   "outputs": [
    {
     "name": "stdout",
     "output_type": "stream",
     "text": [
      "10\n"
     ]
    }
   ],
   "source": [
    "num = int(input(\"Enter a number : \"))\n",
    "Sum = 0\n",
    "while num > 0:\n",
    "    digit = num % 10\n",
    "    Sum += digit\n",
    "    num //= 10\n",
    "print(Sum)"
   ]
  },
  {
   "cell_type": "markdown",
   "metadata": {},
   "source": [
    "# Checking for Palindrome Strings"
   ]
  },
  {
   "cell_type": "code",
   "execution_count": 39,
   "metadata": {},
   "outputs": [
    {
     "name": "stdout",
     "output_type": "stream",
     "text": [
      "The string is not Palindrome\n"
     ]
    }
   ],
   "source": [
    "String = input(\"Enter a String : \")\n",
    "if String == String[::-1]:\n",
    "    print(\"The string is Palindrome\")\n",
    "else:\n",
    "    print(\"The string is not Palindrome\")"
   ]
  },
  {
   "cell_type": "markdown",
   "metadata": {},
   "source": [
    "# Creating a Dictionary from Two Lists"
   ]
  },
  {
   "cell_type": "code",
   "execution_count": 38,
   "metadata": {},
   "outputs": [
    {
     "name": "stdout",
     "output_type": "stream",
     "text": [
      "{'Brand': 'mercedes', 'Model': 'C200', 'Color': 'Black'}\n"
     ]
    }
   ],
   "source": [
    "List_1=[\"Brand\", \"Model\", \"Color\"]\n",
    "List_2=[\"mercedes\", \"C200\", \"Black\"]\n",
    "Dictionary = {}\n",
    "for i in range(len(List_1)):\n",
    "    Dictionary[List_1[i]] = List_2[i]   \n",
    "print(Dictionary)"
   ]
  },
  {
   "cell_type": "markdown",
   "metadata": {},
   "source": [
    "# Simulating a Simple Password Check"
   ]
  },
  {
   "cell_type": "code",
   "execution_count": 37,
   "metadata": {},
   "outputs": [
    {
     "name": "stdout",
     "output_type": "stream",
     "text": [
      "Incorrect password\n",
      "Incorrect password\n",
      "Incorrect password\n",
      "Incorrect password\n",
      "You have exceeded the allowed number of attempts\n"
     ]
    }
   ],
   "source": [
    "Passed = 1404\n",
    "C = 0\n",
    "while True:\n",
    "    Password = int(input(\"Enter Your Password : \"))\n",
    "    if Password == Passed:\n",
    "        print(\"Password is correct\")\n",
    "        break\n",
    "    else:  \n",
    "        C +=1\n",
    "        if C == 5:\n",
    "            print(\"You have exceeded the allowed number of attempts\")\n",
    "            break\n",
    "        else:\n",
    "            print(\"Incorrect password\")\n",
    "    "
   ]
  },
  {
   "cell_type": "markdown",
   "metadata": {},
   "source": [
    "# Generating a Multiplication Table for a Given Number"
   ]
  },
  {
   "cell_type": "code",
   "execution_count": 36,
   "metadata": {},
   "outputs": [
    {
     "name": "stdout",
     "output_type": "stream",
     "text": [
      "7 x 1 = 7\n",
      "7 x 2 = 14\n",
      "7 x 3 = 21\n",
      "7 x 4 = 28\n",
      "7 x 5 = 35\n",
      "7 x 6 = 42\n",
      "7 x 7 = 49\n",
      "7 x 8 = 56\n",
      "7 x 9 = 63\n",
      "7 x 10 = 70\n",
      "7 x 11 = 77\n",
      "7 x 12 = 84\n"
     ]
    }
   ],
   "source": [
    "number = int(input(\"Enter a number: \"))\n",
    "for i in range(1, 13):\n",
    "    print(number, \"x\", i, \"=\", number * i)"
   ]
  },
  {
   "cell_type": "markdown",
   "metadata": {},
   "source": [
    "# Calculating Average of Numbers Using Functions"
   ]
  },
  {
   "cell_type": "code",
   "execution_count": 35,
   "metadata": {},
   "outputs": [
    {
     "name": "stdout",
     "output_type": "stream",
     "text": [
      "4.25\n"
     ]
    }
   ],
   "source": [
    "def avg(*nums):\n",
    "    total = 0\n",
    "    for num in nums:\n",
    "        total += num\n",
    "    return (total / len(nums))\n",
    "\n",
    "print(avg(5,2,7,3))"
   ]
  },
  {
   "cell_type": "markdown",
   "metadata": {},
   "source": [
    "# Finding the Longest Word in a List"
   ]
  },
  {
   "cell_type": "code",
   "execution_count": 34,
   "metadata": {},
   "outputs": [
    {
     "name": "stdout",
     "output_type": "stream",
     "text": [
      "nooooby\n"
     ]
    }
   ],
   "source": [
    "def longest(*words):\n",
    "    LI = list(words)\n",
    "    maxi = len(LI[0])\n",
    "    long = LI[0]\n",
    "\n",
    "    for i in range(1,len(LI),1):\n",
    "        if len(LI[i]) > maxi:\n",
    "            maxi = len(LI[i])\n",
    "            long = LI[i]\n",
    "    return long\n",
    "\n",
    "print(longest(\"karam\" , \"nooooby\" , \"hameed\"))"
   ]
  },
  {
   "cell_type": "markdown",
   "metadata": {},
   "source": [
    "# Checking if a Number is Prime"
   ]
  },
  {
   "cell_type": "code",
   "execution_count": 32,
   "metadata": {},
   "outputs": [
    {
     "name": "stdout",
     "output_type": "stream",
     "text": [
      "9 is not a prime number.\n"
     ]
    }
   ],
   "source": [
    "def is_prime(number):\n",
    "  if number > 1:\n",
    "    for i in range(2,(number//2)+1):\n",
    "      if (number % i) == 0:\n",
    "        return False\n",
    "    return True\n",
    "  else:\n",
    "    return False\n",
    "\n",
    "number = int(input(\"Enter a number to check: \"))\n",
    "\n",
    "if is_prime(number):\n",
    "  print(f\"{number} is a prime number.\")\n",
    "else:\n",
    "  print(f\"{number} is not a prime number.\")"
   ]
  },
  {
   "cell_type": "markdown",
   "metadata": {},
   "source": [
    "# Converting Temperature Units"
   ]
  },
  {
   "cell_type": "code",
   "execution_count": 31,
   "metadata": {},
   "outputs": [
    {
     "name": "stdout",
     "output_type": "stream",
     "text": [
      "Temperature in Kelvin is: 303.15\n",
      "Temperature in Fahrenheit is: 86.0\n"
     ]
    }
   ],
   "source": [
    "def temp_conv():\n",
    "    Temp = int(input(\"Enter Temperature in Celsius: \"))\n",
    "    kel = Temp + 273.15\n",
    "    fah = (Temp * 1.8) + 32\n",
    "    return print(f\"Temperature in Kelvin is: {kel}\\nTemperature in Fahrenheit is: {fah}\")\n",
    "\n",
    "temp_conv()"
   ]
  },
  {
   "cell_type": "markdown",
   "metadata": {},
   "source": [
    "# Generating a List of Squares Using List Comprehension and Functions"
   ]
  },
  {
   "cell_type": "code",
   "execution_count": 30,
   "metadata": {},
   "outputs": [
    {
     "name": "stdout",
     "output_type": "stream",
     "text": [
      "[1, 4, 9, 16, 25, 36, 49, 64, 81, 100, 121, 144, 169, 196, 225]\n"
     ]
    }
   ],
   "source": [
    "def squares(start, end):\n",
    "    return [x**2 for x in range(start, end + 1)]\n",
    "\n",
    "print(squares(1,15))"
   ]
  },
  {
   "cell_type": "markdown",
   "metadata": {},
   "source": [
    "# Converting a List of Strings to Uppercase"
   ]
  },
  {
   "cell_type": "code",
   "execution_count": 29,
   "metadata": {},
   "outputs": [
    {
     "name": "stdout",
     "output_type": "stream",
     "text": [
      "['KARAM', 'NOBY', 'HAMED', 'OMAR', 'ANWAR']\n"
     ]
    }
   ],
   "source": [
    "def upperC(*strings):\n",
    "    return [string.upper() for string in strings]\n",
    "\n",
    "print(upperC(\"karam\",\"noby\",\"hamed\",\"omar\",\"anwar\"))"
   ]
  },
  {
   "cell_type": "markdown",
   "metadata": {},
   "source": [
    "# Calculating the Total Price Including Tax\n"
   ]
  },
  {
   "cell_type": "code",
   "execution_count": 28,
   "metadata": {},
   "outputs": [
    {
     "name": "stdout",
     "output_type": "stream",
     "text": [
      "119.7\n"
     ]
    }
   ],
   "source": [
    "def totalprice(price):\n",
    "    price *= 1.14\n",
    "    return round(price , 3)\n",
    "\n",
    "print(totalprice(105))"
   ]
  },
  {
   "cell_type": "markdown",
   "metadata": {},
   "source": [
    "# Finding the Minimum and Maximum Values in a List"
   ]
  },
  {
   "cell_type": "code",
   "execution_count": 27,
   "metadata": {},
   "outputs": [
    {
     "name": "stdout",
     "output_type": "stream",
     "text": [
      "Minimum is: 1\n",
      "Maximum is: 15\n"
     ]
    }
   ],
   "source": [
    "def minANDmax(*nums):\n",
    "    nums = list(nums)\n",
    "    max = nums[0]\n",
    "    min = nums[0]\n",
    "    for x in nums:\n",
    "        if max < x:\n",
    "            max = x\n",
    "        if min > x:\n",
    "            min = x\n",
    "    return (f\"Minimum is: {min}\\nMaximum is: {max}\")\n",
    "\n",
    "print(minANDmax(2 , 5 , 10 , 3 , 9 , 15 , 1))"
   ]
  },
  {
   "cell_type": "markdown",
   "metadata": {},
   "source": [
    "# Checking if a String is a Valid Email Address"
   ]
  },
  {
   "cell_type": "code",
   "execution_count": 26,
   "metadata": {},
   "outputs": [
    {
     "data": {
      "text/plain": [
       "' karem_kh12@gmail.com : is Valide'"
      ]
     },
     "execution_count": 26,
     "metadata": {},
     "output_type": "execute_result"
    }
   ],
   "source": [
    "import re\n",
    "def Emailcheck():\n",
    "    email = input(\"Enter your e-mail adress : \")\n",
    "    if any( x == \"@\" for x in email) and not(any(y == \" \" for y in email)):\n",
    "        if any( x==email[0] for x in \"ABCDEFGHIJKLMNOPQRSTUVWXYZabcdefghijklmnopqrstuvwxyz\"):\n",
    "            if ((email.split(\"@\"))[1] == \"gmail.com\"):\n",
    "                if not(re.search(r'[^a-zA-Z0-9\\.\\-_@]', email)):\n",
    "                    check = (f\" {email} : is Valide\")\n",
    "                else: \n",
    "                    check = \"Not-Valide\"\n",
    "            else:\n",
    "                check = \"Not-Valide\"\n",
    "        else:\n",
    "            check = \"Not-Valide\"\n",
    "    else:\n",
    "        check = \"Not-Valide\"\n",
    "    return check\n",
    "Emailcheck()"
   ]
  },
  {
   "cell_type": "markdown",
   "metadata": {},
   "source": [
    "# Counting the Frequency of Each Character in a String"
   ]
  },
  {
   "cell_type": "code",
   "execution_count": 24,
   "metadata": {},
   "outputs": [
    {
     "name": "stdout",
     "output_type": "stream",
     "text": [
      "{'k': 1, 'a': 4, 'r': 2, 'm': 2}\n"
     ]
    }
   ],
   "source": [
    "def freqstr(string):\n",
    "    char_freq = {}\n",
    "    for char in string:\n",
    "        if char in char_freq:\n",
    "            char_freq[char] += 1\n",
    "        else:\n",
    "            char_freq[char] = 1\n",
    "    return char_freq\n",
    "\n",
    "print(freqstr(\"karraaamm\"))\n"
   ]
  }
 ],
 "metadata": {
  "kernelspec": {
   "display_name": "Python 3",
   "language": "python",
   "name": "python3"
  },
  "language_info": {
   "codemirror_mode": {
    "name": "ipython",
    "version": 3
   },
   "file_extension": ".py",
   "mimetype": "text/x-python",
   "name": "python",
   "nbconvert_exporter": "python",
   "pygments_lexer": "ipython3",
   "version": "3.13.0"
  }
 },
 "nbformat": 4,
 "nbformat_minor": 4
}
